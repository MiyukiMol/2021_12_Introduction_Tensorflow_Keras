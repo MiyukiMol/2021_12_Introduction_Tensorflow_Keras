{
 "cells": [
  {
   "cell_type": "markdown",
   "id": "ea2a00c1",
   "metadata": {},
   "source": [
    "## Etude sur Introduction aux réseaux de neurones artificiels  - classification"
   ]
  },
  {
   "cell_type": "markdown",
   "id": "cced149a",
   "metadata": {},
   "source": [
    "La classification par un perceptron multi-couche sera illustrée dans trois Jupyter Notebooks sur l'exemple du Breast cancer wisconsin (diagnostic) dataset en utilisant exclusivement TensorFlow / Keras (pas de scikit-learn)."
   ]
  },
  {
   "cell_type": "markdown",
   "id": "82c636b9",
   "metadata": {},
   "source": [
    "### test"
   ]
  },
  {
   "cell_type": "markdown",
   "id": "748ff0df",
   "metadata": {},
   "source": [
    "### 1 - Importation des librairies Python nécessaires à la résolution du problème"
   ]
  },
  {
   "cell_type": "code",
   "execution_count": 33,
   "id": "9616e281",
   "metadata": {},
   "outputs": [],
   "source": [
    "import numpy as np\n",
    "import pandas as pd\n",
    "import matplotlib.pyplot as plt\n",
    "from sklearn.datasets import load_boston\n",
    "import tensorflow as tf\n",
    "from keras.datasets import boston_housing\n",
    "import joblib\n",
    "from keras import layers\n",
    "from keras import models\n",
    "import tensorflow as tf\n",
    "from tensorflow import keras\n",
    "from tensorflow.keras import layers\n",
    "from keras.models import load_model\n",
    "from sklearn.metrics import confusion_matrix\n",
    "import seaborn as sns\n",
    "import tensorflow"
   ]
  },
  {
   "cell_type": "markdown",
   "id": "3e101339",
   "metadata": {},
   "source": [
    "### 2 - affichage"
   ]
  },
  {
   "cell_type": "code",
   "execution_count": 2,
   "id": "1fa9f9b1",
   "metadata": {},
   "outputs": [],
   "source": [
    "pd.set_option(\"max_columns\", None)\n",
    "pd.set_option(\"max_colwidth\", None)\n",
    "pd.set_option(\"max_row\", 500)"
   ]
  },
  {
   "cell_type": "markdown",
   "id": "c5d0312a",
   "metadata": {},
   "source": [
    "### 3 - Chargement des données test et le modèle"
   ]
  },
  {
   "cell_type": "code",
   "execution_count": 3,
   "id": "35f5e54c",
   "metadata": {},
   "outputs": [],
   "source": [
    "X_test = joblib.load(\"X_test.joblib\")\n",
    "y_test = joblib.load(\"y_test.joblib\")"
   ]
  },
  {
   "cell_type": "code",
   "execution_count": 4,
   "id": "abcaf35f",
   "metadata": {},
   "outputs": [
    {
     "data": {
      "text/plain": [
       "((114, 30), (114,))"
      ]
     },
     "execution_count": 4,
     "metadata": {},
     "output_type": "execute_result"
    }
   ],
   "source": [
    "X_test.shape, y_test.shape"
   ]
  },
  {
   "cell_type": "code",
   "execution_count": 5,
   "id": "5610ec03",
   "metadata": {},
   "outputs": [],
   "source": [
    "model = load_model('model_best')"
   ]
  },
  {
   "cell_type": "markdown",
   "id": "24f4f7e1",
   "metadata": {},
   "source": [
    "### 4 - matrix de confusion"
   ]
  },
  {
   "cell_type": "markdown",
   "id": "bcf8173c",
   "metadata": {},
   "source": [
    "https://qiita.com/penpenta/items/dc7ef234ccce325c53ab"
   ]
  },
  {
   "cell_type": "code",
   "execution_count": 16,
   "id": "557ff12c",
   "metadata": {},
   "outputs": [
    {
     "data": {
      "text/plain": [
       "array([[41,  1],\n",
       "       [ 4, 68]], dtype=int64)"
      ]
     },
     "execution_count": 16,
     "metadata": {},
     "output_type": "execute_result"
    }
   ],
   "source": [
    "y_test_pred = model.predict(X_test)\n",
    "y_test_pred  = y_test_pred > 0.5\n",
    "\n",
    "cm_test = confusion_matrix(y_test, y_test_pred)\n",
    "cm_test"
   ]
  },
  {
   "cell_type": "code",
   "execution_count": 17,
   "id": "f063b775",
   "metadata": {},
   "outputs": [
    {
     "name": "stdout",
     "output_type": "stream",
     "text": [
      "predicted label : 0\n",
      "true label : 0\n"
     ]
    }
   ],
   "source": [
    "# `np.argmax`で配列の中から最大の値（画像の分類されたラベルの番号）を取得  \n",
    "print(f'predicted label : {np.argmax(y_test_pred[0])}')\n",
    "# 正解データを確認\n",
    "print(f'true label : {y_test[0]}')"
   ]
  },
  {
   "cell_type": "markdown",
   "id": "d28064ac",
   "metadata": {},
   "source": [
    "### 5 - loss and accuracy for test"
   ]
  },
  {
   "cell_type": "code",
   "execution_count": 18,
   "id": "aa5fff50",
   "metadata": {},
   "outputs": [
    {
     "name": "stdout",
     "output_type": "stream",
     "text": [
      "4/4 - 0s - loss: 0.1820 - accuracy: 0.9561 - 48ms/epoch - 12ms/step\n",
      "\n",
      "Test accuracy: 0.9561403393745422\n"
     ]
    }
   ],
   "source": [
    "test_loss, test_acc = model.evaluate(X_test, y_test, verbose=2)\n",
    "\n",
    "print('\\nTest accuracy:', test_acc)"
   ]
  },
  {
   "cell_type": "code",
   "execution_count": 34,
   "id": "208369cf",
   "metadata": {},
   "outputs": [
    {
     "name": "stdout",
     "output_type": "stream",
     "text": [
      "0.95614034\n"
     ]
    }
   ],
   "source": [
    "accuracy_score_keras = tensorflow.keras.metrics.BinaryAccuracy()\n",
    "accuracy_score_keras.update_state(y_test, y_test_pred)\n",
    "print(accuracy_score_keras.result().numpy())"
   ]
  },
  {
   "cell_type": "code",
   "execution_count": null,
   "id": "cbf3a9d6",
   "metadata": {},
   "outputs": [],
   "source": []
  },
  {
   "cell_type": "markdown",
   "id": "857ed311",
   "metadata": {},
   "source": [
    "### 6 - Observation (score = accuracy):\n",
    "\n",
    "      train score : 0.9934066\n",
    "      validation score : 0.986184\n",
    "      test score : 0.95614034\n",
    "\n",
    "hyperparamètre de modèle:\n",
    "    \n",
    "    learning_rate : 0.1\n",
    "    neurons : 13 (pour 1 couches cachés)\n",
    "    activation: relu (pour 1 couches cachés)\n",
    "    activation: sigmoid (pour la sortie)\n",
    "     "
   ]
  },
  {
   "cell_type": "code",
   "execution_count": null,
   "id": "32fe56e7",
   "metadata": {},
   "outputs": [],
   "source": []
  },
  {
   "cell_type": "code",
   "execution_count": null,
   "id": "b4a14dc9",
   "metadata": {},
   "outputs": [],
   "source": []
  },
  {
   "cell_type": "markdown",
   "id": "0d9d16ac",
   "metadata": {},
   "source": [
    "学習したニューラルネットのパラメーター(重み) Paramètres (poids) du réseau neuronal"
   ]
  },
  {
   "cell_type": "code",
   "execution_count": 35,
   "id": "21c747ce",
   "metadata": {},
   "outputs": [
    {
     "name": "stdout",
     "output_type": "stream",
     "text": [
      "[array([[-2.15888321e-01,  5.89685608e-03,  8.59913647e-01,\n",
      "        -4.23357934e-01, -1.05702734e+00,  9.95745480e-01,\n",
      "        -2.62667209e-01, -5.03516734e-01, -3.22969705e-01,\n",
      "         1.59959689e-01, -3.76600444e-01,  4.71799701e-01,\n",
      "         5.41229963e-01],\n",
      "       [-1.06723070e+00,  3.19786817e-01,  1.13276911e+00,\n",
      "        -1.50551319e+00, -7.24671245e-01,  1.04460764e+00,\n",
      "        -1.76467526e+00, -6.06436253e-01, -1.63045526e+00,\n",
      "         2.10686728e-01, -4.96541947e-01,  7.89808810e-01,\n",
      "         8.02285671e-01],\n",
      "       [-5.95627367e-01, -8.35172236e-02,  3.66890848e-01,\n",
      "        -5.56458712e-01, -5.48619151e-01,  9.73216236e-01,\n",
      "        -1.89102650e-01, -6.35048211e-01, -6.15677595e-01,\n",
      "         5.47166526e-01, -4.09266859e-01,  7.15161920e-01,\n",
      "         7.96936154e-01],\n",
      "       [-8.32877755e-01, -4.57749516e-01,  8.64601076e-01,\n",
      "        -6.83375239e-01, -7.35552192e-01,  8.45984936e-01,\n",
      "        -3.85933846e-01, -5.21843374e-01, -7.48707771e-01,\n",
      "         2.75999635e-01, -6.10225741e-03,  9.09966707e-01,\n",
      "         4.04823154e-01],\n",
      "       [-4.67171222e-01, -1.49829614e+00,  9.06259537e-01,\n",
      "         4.15902108e-01, -6.92217350e-01,  5.91473915e-02,\n",
      "         1.81006372e+00, -1.08735323e+00,  7.49288499e-01,\n",
      "         2.84542024e-01, -9.14673746e-01,  3.13990086e-01,\n",
      "         9.22158420e-01],\n",
      "       [-4.68087383e-02,  8.97072494e-01,  3.68035227e-01,\n",
      "         7.16268718e-02, -8.48295867e-01,  4.15459368e-03,\n",
      "         6.13632679e-01, -3.00110042e-01,  5.04808068e-01,\n",
      "         4.14730310e-01,  2.83210725e-01,  4.97426540e-01,\n",
      "         8.60274851e-01],\n",
      "       [-7.30594397e-01, -7.44472444e-01,  7.15140462e-01,\n",
      "        -6.16230428e-01, -6.89056933e-01,  5.08433580e-01,\n",
      "        -5.85341454e-01, -4.12641317e-01, -5.09364724e-01,\n",
      "         7.51895130e-01,  9.34150070e-02,  8.73647094e-01,\n",
      "         3.95076931e-01],\n",
      "       [-8.46627951e-01, -7.11273491e-01,  1.11439919e+00,\n",
      "        -2.53156126e-01, -4.15920287e-01,  8.06888700e-01,\n",
      "        -3.40942174e-01, -7.53978550e-01,  9.61942319e-03,\n",
      "         7.39209116e-01, -5.19867241e-01,  8.08908105e-01,\n",
      "         7.00817347e-01],\n",
      "       [-2.12381423e-01, -9.74485949e-02,  3.65766227e-01,\n",
      "        -1.19986042e-01, -3.67019027e-01,  6.41026422e-02,\n",
      "         1.18254557e-01, -3.89452577e-01, -2.75014341e-01,\n",
      "         3.06179374e-01,  8.30596864e-01,  3.63271028e-01,\n",
      "         6.44658625e-01],\n",
      "       [ 9.79694664e-01,  1.20784372e-01, -3.98021579e-01,\n",
      "         5.65224826e-01,  1.19290864e+00, -4.51339781e-01,\n",
      "         2.49568731e-01,  7.72942185e-01,  7.82496095e-01,\n",
      "        -2.68296152e-01,  5.01299858e-01, -3.61791670e-01,\n",
      "        -6.25532091e-01],\n",
      "       [-7.29325652e-01, -1.44555616e+00,  1.23096728e+00,\n",
      "        -1.53444731e+00, -1.21784426e-01,  1.01202953e+00,\n",
      "        -1.44947660e+00, -9.54497933e-01, -1.44565749e+00,\n",
      "         1.97671011e-01, -1.51325691e+00,  4.27684456e-01,\n",
      "         3.62847447e-01],\n",
      "       [-1.47434986e+00,  1.36893928e+00, -9.69757318e-01,\n",
      "        -1.36161768e+00, -5.98885775e-01, -9.17021871e-01,\n",
      "        -1.42093372e+00, -1.84554696e+00, -1.01204026e+00,\n",
      "        -5.08737624e-01,  2.26595938e-01, -5.76427102e-01,\n",
      "         1.25950027e+00],\n",
      "       [-5.21684110e-01, -7.58437812e-01,  7.46325016e-01,\n",
      "        -1.11253369e+00, -2.97465146e-01,  1.01568460e+00,\n",
      "        -1.03318322e+00, -8.28689992e-01, -1.21462953e+00,\n",
      "         6.65138543e-01, -1.01141310e+00,  6.52732134e-01,\n",
      "         2.65482306e-01],\n",
      "       [-7.12532461e-01, -9.53949213e-01,  1.20121849e+00,\n",
      "        -8.90778661e-01, -6.33106172e-01,  9.34724808e-01,\n",
      "        -1.10508609e+00, -8.17702413e-01, -1.12778282e+00,\n",
      "         7.53264248e-01, -8.54812145e-01,  1.08295822e+00,\n",
      "         7.60049641e-01],\n",
      "       [ 7.43340075e-01, -6.70758635e-02,  1.07735920e+00,\n",
      "        -5.61602376e-02, -5.14893979e-02, -6.85033917e-01,\n",
      "         6.82134986e-01, -2.85226330e-02,  6.86818004e-01,\n",
      "        -7.89935648e-01, -2.05816045e-01, -1.31711233e-02,\n",
      "        -3.12836170e-01],\n",
      "       [ 1.01755548e+00,  2.96426845e+00,  5.46245694e-01,\n",
      "         1.58998072e+00, -1.92876279e+00, -1.30017030e+00,\n",
      "         2.85535693e-01,  9.90363300e-01,  4.38942760e-01,\n",
      "        -8.42130363e-01,  7.06641674e-01, -3.53074133e-01,\n",
      "         6.42192841e-01],\n",
      "       [-4.59554464e-01,  8.34632754e-01,  5.98561049e-01,\n",
      "         1.03413475e+00,  8.86885941e-01, -3.83380383e-01,\n",
      "         4.60310802e-02,  1.67934060e+00,  4.10545319e-01,\n",
      "        -6.84010029e-01,  1.57084835e+00, -2.78101265e-01,\n",
      "         2.38643661e-01],\n",
      "       [-6.26532495e-01, -1.98606479e+00,  1.11427379e+00,\n",
      "        -3.13075751e-01,  1.43222809e-01, -8.20886910e-01,\n",
      "        -7.16569647e-02, -8.52854311e-01, -9.19125881e-03,\n",
      "         1.53559376e-03, -2.40905717e-01, -3.61007124e-01,\n",
      "         3.19768310e-01],\n",
      "       [ 1.63805687e+00,  8.71982753e-01,  1.02239802e-01,\n",
      "         5.42063117e-01, -4.60218102e-01, -6.32557750e-01,\n",
      "         3.12771291e-01,  9.66263413e-01,  2.96247691e-01,\n",
      "        -5.90209484e-01,  1.05869973e+00, -3.97837400e-01,\n",
      "         3.80587161e-01],\n",
      "       [ 9.41142380e-01,  1.18759692e+00, -5.21215320e-01,\n",
      "         8.13692212e-01, -1.24906890e-01, -8.25861990e-01,\n",
      "        -1.67157248e-01,  1.51729321e+00,  2.85431117e-01,\n",
      "        -6.17109299e-01,  1.14983380e+00, -3.86739373e-01,\n",
      "        -7.37030625e-01],\n",
      "       [-4.21434432e-01, -5.24580717e-01,  8.40782821e-01,\n",
      "        -6.53290153e-01, -4.55256969e-01,  4.01820421e-01,\n",
      "        -1.10484540e+00, -6.18755758e-01, -5.23730636e-01,\n",
      "         8.67640734e-01, -6.72253311e-01,  1.04376185e+00,\n",
      "         4.70539987e-01],\n",
      "       [-1.19875538e+00,  2.60051161e-01,  9.83492315e-01,\n",
      "        -1.53372133e+00, -5.78014851e-01,  5.15255213e-01,\n",
      "        -1.73257971e+00, -1.55556655e+00, -1.43147051e+00,\n",
      "         3.96510243e-01, -7.93551207e-01,  6.84367895e-01,\n",
      "         2.97008008e-01],\n",
      "       [-6.51026964e-01, -4.59177136e-01,  8.85677814e-01,\n",
      "        -7.57951021e-01, -7.96378791e-01,  4.64557052e-01,\n",
      "        -6.13688529e-01, -2.68995672e-01, -6.30646110e-01,\n",
      "         8.43470573e-01, -2.68870413e-01,  1.01879704e+00,\n",
      "         9.50812399e-01],\n",
      "       [-4.29179788e-01, -3.50320518e-01,  1.06876373e+00,\n",
      "        -3.10279787e-01, -7.41236687e-01,  4.80316401e-01,\n",
      "        -6.96582794e-01, -3.31223518e-01, -5.93768895e-01,\n",
      "         3.65507483e-01, -4.09832090e-01,  4.34943557e-01,\n",
      "         3.76511812e-01],\n",
      "       [-2.52512515e-01, -1.70663297e+00,  1.63708973e+00,\n",
      "        -6.84617460e-01, -6.25452638e-01,  1.13302767e+00,\n",
      "         1.35978079e+00, -4.55460727e-01,  4.72068414e-02,\n",
      "         2.22404763e-01, -1.37975109e+00,  1.13887107e+00,\n",
      "         6.54096842e-01],\n",
      "       [-4.76463258e-01,  5.20558238e-01,  5.04629910e-01,\n",
      "         8.53873882e-03, -5.30965924e-01,  6.13515437e-01,\n",
      "        -1.72604099e-01, -2.76457608e-01,  1.55127749e-01,\n",
      "         2.48634070e-01,  1.48084732e-02,  5.72230160e-01,\n",
      "         4.30343896e-01],\n",
      "       [-5.55663228e-01, -6.48874402e-01,  7.36425042e-01,\n",
      "        -7.42560744e-01, -6.06618166e-01,  5.01915932e-01,\n",
      "        -7.75054216e-01, -7.54616618e-01, -1.75368562e-01,\n",
      "         4.33521926e-01,  1.86699495e-01,  4.88877803e-01,\n",
      "         9.09380674e-01],\n",
      "       [-3.10462385e-01, -1.20756292e+00,  8.62123430e-01,\n",
      "        -1.28422275e-01, -5.62919199e-01,  6.45931602e-01,\n",
      "        -2.50943094e-01, -1.01812017e+00, -8.37126672e-01,\n",
      "         5.75675130e-01, -2.70635754e-01,  3.69994849e-01,\n",
      "         5.57350218e-01],\n",
      "       [-4.82468039e-01, -8.29367161e-01,  1.26878333e+00,\n",
      "        -5.78019917e-01, -1.16833322e-01,  9.80077684e-01,\n",
      "        -2.25198254e-01, -8.34801495e-01, -6.12897933e-01,\n",
      "         3.84211123e-01, -3.68147671e-01,  6.74242556e-01,\n",
      "         3.74268860e-01],\n",
      "       [ 1.71053365e-01, -4.75027785e-02,  4.57284957e-01,\n",
      "        -2.21225590e-01, -5.29098630e-01, -8.93706501e-01,\n",
      "        -8.05924952e-01,  2.50842661e-01, -5.77512205e-01,\n",
      "         2.71781325e-01,  5.58132790e-02,  1.87125802e-01,\n",
      "         7.73163915e-01]], dtype=float32), array([ 0.35361588,  0.34891   ,  0.7713522 ,  0.359307  , -0.37963337,\n",
      "       -0.0786226 ,  0.5715757 ,  0.28281245,  0.353732  , -0.7704095 ,\n",
      "        0.11829513,  0.7698424 , -0.62261295], dtype=float32), array([[ 0.82914555],\n",
      "       [ 0.97265637],\n",
      "       [-1.507405  ],\n",
      "       [ 0.54974914],\n",
      "       [-0.5887853 ],\n",
      "       [-1.6345661 ],\n",
      "       [ 0.7020312 ],\n",
      "       [ 0.60887057],\n",
      "       [ 0.48656186],\n",
      "       [-0.16478924],\n",
      "       [ 0.17385517],\n",
      "       [-0.7309383 ],\n",
      "       [-0.1049641 ]], dtype=float32), array([0.50363004], dtype=float32)]\n"
     ]
    }
   ],
   "source": [
    "w = model.get_weights()\n",
    "print(w)"
   ]
  },
  {
   "cell_type": "code",
   "execution_count": 36,
   "id": "c972b5e9",
   "metadata": {},
   "outputs": [
    {
     "data": {
      "image/png": "[encoded data removed]",
      "text/plain": [
       "<Figure size 432x288 with 1 Axes>"
      ]
     },
     "metadata": {
      "needs_background": "light"
     },
     "output_type": "display_data"
    },
    {
     "data": {
      "image/png": "[encoded data removed]",
      "text/plain": [
       "<Figure size 432x288 with 1 Axes>"
      ]
     },
     "metadata": {
      "needs_background": "light"
     },
     "output_type": "display_data"
    }
   ],
   "source": [
    "for i in range(len(model.layers)):\n",
    "    # ニューラルネットの各層について、重みの絶対値の総和をプロット\n",
    "    w1 = model.layers[i].get_weights()[0]\n",
    "    plt.figure()\n",
    "    plt.plot(range(1, len(w1)+1), (w1**2).sum(axis=1), 'o-')\n",
    "    plt.show()"
   ]
  },
  {
   "cell_type": "markdown",
   "id": "e5202cb5",
   "metadata": {},
   "source": [
    "16 = compactness has the most weight"
   ]
  },
  {
   "cell_type": "code",
   "execution_count": null,
   "id": "ab5c8602",
   "metadata": {},
   "outputs": [],
   "source": []
  },
  {
   "cell_type": "code",
   "execution_count": null,
   "id": "bba1889a",
   "metadata": {},
   "outputs": [],
   "source": []
  },
  {
   "cell_type": "code",
   "execution_count": null,
   "id": "a98661e3",
   "metadata": {},
   "outputs": [],
   "source": []
  },
  {
   "cell_type": "code",
   "execution_count": null,
   "id": "ee3e2bd6",
   "metadata": {},
   "outputs": [],
   "source": []
  },
  {
   "cell_type": "markdown",
   "id": "a3045000",
   "metadata": {},
   "source": [
    "https://liaoyuan.hatenablog.jp/entry/2018/02/05/214222"
   ]
  },
  {
   "cell_type": "code",
   "execution_count": null,
   "id": "1cb77b2d",
   "metadata": {},
   "outputs": [],
   "source": []
  }
 ],
 "metadata": {
  "kernelspec": {
   "display_name": "Python 3 (ipykernel)",
   "language": "python",
   "name": "python3"
  },
  "language_info": {
   "codemirror_mode": {
    "name": "ipython",
    "version": 3
   },
   "file_extension": ".py",
   "mimetype": "text/x-python",
   "name": "python",
   "nbconvert_exporter": "python",
   "pygments_lexer": "ipython3",
   "version": "3.9.7"
  }
 },
 "nbformat": 4,
 "nbformat_minor": 5
}
