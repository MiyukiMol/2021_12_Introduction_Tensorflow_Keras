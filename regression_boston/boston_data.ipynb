{
 "cells": [
  {
   "cell_type": "markdown",
   "id": "ea2a00c1",
   "metadata": {},
   "source": [
    "## Etude sur Introduction aux réseaux de neurones artificiels"
   ]
  },
  {
   "cell_type": "markdown",
   "id": "cced149a",
   "metadata": {},
   "source": [
    "La régression par un perceptron multi-couche sera illustrée dans trois Jupyter Notebooks sur l'exemple du Boston house prices dataset en utilisant exclusivement TensorFlow / Keras (pas de scikit-learn).\n"
   ]
  },
  {
   "cell_type": "markdown",
   "id": "82c636b9",
   "metadata": {},
   "source": [
    "### préparation des data"
   ]
  },
  {
   "cell_type": "markdown",
   "id": "748ff0df",
   "metadata": {},
   "source": [
    "### 1 - Importation des librairies Python nécessaires à la résolution du problème"
   ]
  },
  {
   "cell_type": "code",
   "execution_count": 23,
   "id": "9616e281",
   "metadata": {},
   "outputs": [],
   "source": [
    "import numpy as np\n",
    "import pandas as pd\n",
    "import matplotlib.pyplot as plt\n",
    "from sklearn.datasets import load_boston\n",
    "import tensorflow as tf\n",
    "from keras.datasets import boston_housing\n",
    "import joblib"
   ]
  },
  {
   "cell_type": "markdown",
   "id": "3e101339",
   "metadata": {},
   "source": [
    "### 2 - affichage"
   ]
  },
  {
   "cell_type": "code",
   "execution_count": 24,
   "id": "1fa9f9b1",
   "metadata": {},
   "outputs": [],
   "source": [
    "pd.set_option(\"max_columns\", None)\n",
    "pd.set_option(\"max_colwidth\", None)\n",
    "pd.set_option(\"max_row\", 500)"
   ]
  },
  {
   "cell_type": "markdown",
   "id": "c5d0312a",
   "metadata": {},
   "source": [
    "### 3 - Chargement des données du Boston Housing Dataset Boston"
   ]
  },
  {
   "cell_type": "markdown",
   "id": "cf899b8a",
   "metadata": {},
   "source": [
    "Je charge les données avec TensorFlow"
   ]
  },
  {
   "cell_type": "code",
   "execution_count": 25,
   "id": "575f0bc0",
   "metadata": {},
   "outputs": [],
   "source": [
    "(train_data, train_targets), (test_data, test_targets) = boston_housing.load_data()"
   ]
  },
  {
   "cell_type": "code",
   "execution_count": 26,
   "id": "dd5893ea",
   "metadata": {},
   "outputs": [
    {
     "name": "stdout",
     "output_type": "stream",
     "text": [
      "Training data : (404, 13)\n",
      "Test data : (102, 13)\n",
      "Training sample : [  1.23247   0.        8.14      0.        0.538     6.142    91.7\n",
      "   3.9769    4.      307.       21.      396.9      18.72   ]\n",
      "Training target sample : 15.2\n"
     ]
    }
   ],
   "source": [
    "print(f'Training data : {train_data.shape}')\n",
    "print(f'Test data : {test_data.shape}')\n",
    "print(f'Training sample : {train_data[0]}')\n",
    "print(f'Training target sample : {train_targets[0]}')"
   ]
  },
  {
   "cell_type": "code",
   "execution_count": 27,
   "id": "7b49eb84",
   "metadata": {},
   "outputs": [],
   "source": [
    "# Load data avec sklearn\n",
    "#boston = load_boston()"
   ]
  },
  {
   "cell_type": "markdown",
   "id": "cb946c39",
   "metadata": {},
   "source": [
    "### 4 - afficher le dataFrame Boston"
   ]
  },
  {
   "cell_type": "code",
   "execution_count": 28,
   "id": "ed98b431",
   "metadata": {},
   "outputs": [
    {
     "ename": "NameError",
     "evalue": "name 'features' is not defined",
     "output_type": "error",
     "traceback": [
      "\u001b[1;31m---------------------------------------------------------------------------\u001b[0m",
      "\u001b[1;31mNameError\u001b[0m                                 Traceback (most recent call last)",
      "\u001b[1;32mC:\\Users\\UTILIS~1\\AppData\\Local\\Temp/ipykernel_16112/1158398312.py\u001b[0m in \u001b[0;36m<module>\u001b[1;34m\u001b[0m\n\u001b[1;32m----> 1\u001b[1;33m \u001b[0mfeature_columns\u001b[0m \u001b[1;33m=\u001b[0m \u001b[1;33m[\u001b[0m\u001b[0mtf\u001b[0m\u001b[1;33m.\u001b[0m\u001b[0mfeature_column\u001b[0m\u001b[1;33m.\u001b[0m\u001b[0mnumeric_column\u001b[0m\u001b[1;33m(\u001b[0m\u001b[0mkey\u001b[0m\u001b[1;33m)\u001b[0m \u001b[1;32mfor\u001b[0m \u001b[0mkey\u001b[0m \u001b[1;32min\u001b[0m \u001b[0mfeatures\u001b[0m\u001b[1;33m]\u001b[0m\u001b[1;33m\u001b[0m\u001b[1;33m\u001b[0m\u001b[0m\n\u001b[0m",
      "\u001b[1;31mNameError\u001b[0m: name 'features' is not defined"
     ]
    }
   ],
   "source": [
    "feature_columns = [tf.feature_column.numeric_column(key) for key in features]"
   ]
  },
  {
   "cell_type": "code",
   "execution_count": 6,
   "id": "6c2ea5bd",
   "metadata": {},
   "outputs": [],
   "source": [
    "column_names = ['CRIM', 'ZN', 'INDUS', 'CHAS', 'NOX', 'RM', 'AGE', 'DIS', 'RAD',\n",
    "                'TAX', 'PTRATIO', 'B', 'LSTAT']\n",
    "train_df = pd.DataFrame(data = train_data, columns = column_names)"
   ]
  },
  {
   "cell_type": "code",
   "execution_count": 7,
   "id": "2e47addf",
   "metadata": {},
   "outputs": [
    {
     "data": {
      "text/html": [
       "<div>\n",
       "<style scoped>\n",
       "    .dataframe tbody tr th:only-of-type {\n",
       "        vertical-align: middle;\n",
       "    }\n",
       "\n",
       "    .dataframe tbody tr th {\n",
       "        vertical-align: top;\n",
       "    }\n",
       "\n",
       "    .dataframe thead th {\n",
       "        text-align: right;\n",
       "    }\n",
       "</style>\n",
       "<table border=\"1\" class=\"dataframe\">\n",
       "  <thead>\n",
       "    <tr style=\"text-align: right;\">\n",
       "      <th></th>\n",
       "      <th>CRIM</th>\n",
       "      <th>ZN</th>\n",
       "      <th>INDUS</th>\n",
       "      <th>CHAS</th>\n",
       "      <th>NOX</th>\n",
       "      <th>RM</th>\n",
       "      <th>AGE</th>\n",
       "      <th>DIS</th>\n",
       "      <th>RAD</th>\n",
       "      <th>TAX</th>\n",
       "      <th>PTRATIO</th>\n",
       "      <th>B</th>\n",
       "      <th>LSTAT</th>\n",
       "    </tr>\n",
       "  </thead>\n",
       "  <tbody>\n",
       "    <tr>\n",
       "      <th>0</th>\n",
       "      <td>1.23247</td>\n",
       "      <td>0.0</td>\n",
       "      <td>8.14</td>\n",
       "      <td>0.0</td>\n",
       "      <td>0.538</td>\n",
       "      <td>6.142</td>\n",
       "      <td>91.7</td>\n",
       "      <td>3.9769</td>\n",
       "      <td>4.0</td>\n",
       "      <td>307.0</td>\n",
       "      <td>21.0</td>\n",
       "      <td>396.90</td>\n",
       "      <td>18.72</td>\n",
       "    </tr>\n",
       "    <tr>\n",
       "      <th>1</th>\n",
       "      <td>0.02177</td>\n",
       "      <td>82.5</td>\n",
       "      <td>2.03</td>\n",
       "      <td>0.0</td>\n",
       "      <td>0.415</td>\n",
       "      <td>7.610</td>\n",
       "      <td>15.7</td>\n",
       "      <td>6.2700</td>\n",
       "      <td>2.0</td>\n",
       "      <td>348.0</td>\n",
       "      <td>14.7</td>\n",
       "      <td>395.38</td>\n",
       "      <td>3.11</td>\n",
       "    </tr>\n",
       "    <tr>\n",
       "      <th>2</th>\n",
       "      <td>4.89822</td>\n",
       "      <td>0.0</td>\n",
       "      <td>18.10</td>\n",
       "      <td>0.0</td>\n",
       "      <td>0.631</td>\n",
       "      <td>4.970</td>\n",
       "      <td>100.0</td>\n",
       "      <td>1.3325</td>\n",
       "      <td>24.0</td>\n",
       "      <td>666.0</td>\n",
       "      <td>20.2</td>\n",
       "      <td>375.52</td>\n",
       "      <td>3.26</td>\n",
       "    </tr>\n",
       "    <tr>\n",
       "      <th>3</th>\n",
       "      <td>0.03961</td>\n",
       "      <td>0.0</td>\n",
       "      <td>5.19</td>\n",
       "      <td>0.0</td>\n",
       "      <td>0.515</td>\n",
       "      <td>6.037</td>\n",
       "      <td>34.5</td>\n",
       "      <td>5.9853</td>\n",
       "      <td>5.0</td>\n",
       "      <td>224.0</td>\n",
       "      <td>20.2</td>\n",
       "      <td>396.90</td>\n",
       "      <td>8.01</td>\n",
       "    </tr>\n",
       "    <tr>\n",
       "      <th>4</th>\n",
       "      <td>3.69311</td>\n",
       "      <td>0.0</td>\n",
       "      <td>18.10</td>\n",
       "      <td>0.0</td>\n",
       "      <td>0.713</td>\n",
       "      <td>6.376</td>\n",
       "      <td>88.4</td>\n",
       "      <td>2.5671</td>\n",
       "      <td>24.0</td>\n",
       "      <td>666.0</td>\n",
       "      <td>20.2</td>\n",
       "      <td>391.43</td>\n",
       "      <td>14.65</td>\n",
       "    </tr>\n",
       "  </tbody>\n",
       "</table>\n",
       "</div>"
      ],
      "text/plain": [
       "      CRIM    ZN  INDUS  CHAS    NOX     RM    AGE     DIS   RAD    TAX  \\\n",
       "0  1.23247   0.0   8.14   0.0  0.538  6.142   91.7  3.9769   4.0  307.0   \n",
       "1  0.02177  82.5   2.03   0.0  0.415  7.610   15.7  6.2700   2.0  348.0   \n",
       "2  4.89822   0.0  18.10   0.0  0.631  4.970  100.0  1.3325  24.0  666.0   \n",
       "3  0.03961   0.0   5.19   0.0  0.515  6.037   34.5  5.9853   5.0  224.0   \n",
       "4  3.69311   0.0  18.10   0.0  0.713  6.376   88.4  2.5671  24.0  666.0   \n",
       "\n",
       "   PTRATIO       B  LSTAT  \n",
       "0     21.0  396.90  18.72  \n",
       "1     14.7  395.38   3.11  \n",
       "2     20.2  375.52   3.26  \n",
       "3     20.2  396.90   8.01  \n",
       "4     20.2  391.43  14.65  "
      ]
     },
     "execution_count": 7,
     "metadata": {},
     "output_type": "execute_result"
    }
   ],
   "source": [
    "train_df.head()"
   ]
  },
  {
   "cell_type": "code",
   "execution_count": 8,
   "id": "ce9d4d5a",
   "metadata": {},
   "outputs": [],
   "source": [
    "column_names = ['CRIM', 'ZN', 'INDUS', 'CHAS', 'NOX', 'RM', 'AGE', 'DIS', 'RAD',\n",
    "                'TAX', 'PTRATIO', 'B', 'LSTAT']\n",
    "test_df = pd.DataFrame(data = test_data, columns = column_names)"
   ]
  },
  {
   "cell_type": "markdown",
   "id": "e1792bb7",
   "metadata": {},
   "source": [
    "### Data cleansing"
   ]
  },
  {
   "cell_type": "code",
   "execution_count": 9,
   "id": "e269fdaa",
   "metadata": {},
   "outputs": [],
   "source": [
    "train_df_cp = train_df.copy()\n",
    "test_df_cp = test_df.copy()"
   ]
  },
  {
   "cell_type": "code",
   "execution_count": 10,
   "id": "ba1976c9",
   "metadata": {},
   "outputs": [
    {
     "data": {
      "text/plain": [
       "CRIM       0\n",
       "ZN         0\n",
       "INDUS      0\n",
       "CHAS       0\n",
       "NOX        0\n",
       "RM         0\n",
       "AGE        0\n",
       "DIS        0\n",
       "RAD        0\n",
       "TAX        0\n",
       "PTRATIO    0\n",
       "B          0\n",
       "LSTAT      0\n",
       "dtype: int64"
      ]
     },
     "execution_count": 10,
     "metadata": {},
     "output_type": "execute_result"
    }
   ],
   "source": [
    "train_df_cp.isna().sum()"
   ]
  },
  {
   "cell_type": "code",
   "execution_count": 11,
   "id": "6f5814f3",
   "metadata": {},
   "outputs": [
    {
     "data": {
      "text/html": [
       "<div>\n",
       "<style scoped>\n",
       "    .dataframe tbody tr th:only-of-type {\n",
       "        vertical-align: middle;\n",
       "    }\n",
       "\n",
       "    .dataframe tbody tr th {\n",
       "        vertical-align: top;\n",
       "    }\n",
       "\n",
       "    .dataframe thead th {\n",
       "        text-align: right;\n",
       "    }\n",
       "</style>\n",
       "<table border=\"1\" class=\"dataframe\">\n",
       "  <thead>\n",
       "    <tr style=\"text-align: right;\">\n",
       "      <th></th>\n",
       "      <th>count</th>\n",
       "      <th>mean</th>\n",
       "      <th>std</th>\n",
       "      <th>min</th>\n",
       "      <th>25%</th>\n",
       "      <th>50%</th>\n",
       "      <th>75%</th>\n",
       "      <th>max</th>\n",
       "    </tr>\n",
       "  </thead>\n",
       "  <tbody>\n",
       "    <tr>\n",
       "      <th>CRIM</th>\n",
       "      <td>404.0</td>\n",
       "      <td>3.745111</td>\n",
       "      <td>9.240734</td>\n",
       "      <td>0.00632</td>\n",
       "      <td>0.081437</td>\n",
       "      <td>0.26888</td>\n",
       "      <td>3.674808</td>\n",
       "      <td>88.9762</td>\n",
       "    </tr>\n",
       "    <tr>\n",
       "      <th>ZN</th>\n",
       "      <td>404.0</td>\n",
       "      <td>11.480198</td>\n",
       "      <td>23.767711</td>\n",
       "      <td>0.00000</td>\n",
       "      <td>0.000000</td>\n",
       "      <td>0.00000</td>\n",
       "      <td>12.500000</td>\n",
       "      <td>100.0000</td>\n",
       "    </tr>\n",
       "    <tr>\n",
       "      <th>INDUS</th>\n",
       "      <td>404.0</td>\n",
       "      <td>11.104431</td>\n",
       "      <td>6.811308</td>\n",
       "      <td>0.46000</td>\n",
       "      <td>5.130000</td>\n",
       "      <td>9.69000</td>\n",
       "      <td>18.100000</td>\n",
       "      <td>27.7400</td>\n",
       "    </tr>\n",
       "    <tr>\n",
       "      <th>CHAS</th>\n",
       "      <td>404.0</td>\n",
       "      <td>0.061881</td>\n",
       "      <td>0.241238</td>\n",
       "      <td>0.00000</td>\n",
       "      <td>0.000000</td>\n",
       "      <td>0.00000</td>\n",
       "      <td>0.000000</td>\n",
       "      <td>1.0000</td>\n",
       "    </tr>\n",
       "    <tr>\n",
       "      <th>NOX</th>\n",
       "      <td>404.0</td>\n",
       "      <td>0.557356</td>\n",
       "      <td>0.117293</td>\n",
       "      <td>0.38500</td>\n",
       "      <td>0.453000</td>\n",
       "      <td>0.53800</td>\n",
       "      <td>0.631000</td>\n",
       "      <td>0.8710</td>\n",
       "    </tr>\n",
       "    <tr>\n",
       "      <th>RM</th>\n",
       "      <td>404.0</td>\n",
       "      <td>6.267082</td>\n",
       "      <td>0.709788</td>\n",
       "      <td>3.56100</td>\n",
       "      <td>5.874750</td>\n",
       "      <td>6.19850</td>\n",
       "      <td>6.609000</td>\n",
       "      <td>8.7250</td>\n",
       "    </tr>\n",
       "    <tr>\n",
       "      <th>AGE</th>\n",
       "      <td>404.0</td>\n",
       "      <td>69.010644</td>\n",
       "      <td>27.940665</td>\n",
       "      <td>2.90000</td>\n",
       "      <td>45.475000</td>\n",
       "      <td>78.50000</td>\n",
       "      <td>94.100000</td>\n",
       "      <td>100.0000</td>\n",
       "    </tr>\n",
       "    <tr>\n",
       "      <th>DIS</th>\n",
       "      <td>404.0</td>\n",
       "      <td>3.740271</td>\n",
       "      <td>2.030215</td>\n",
       "      <td>1.12960</td>\n",
       "      <td>2.077100</td>\n",
       "      <td>3.14230</td>\n",
       "      <td>5.118000</td>\n",
       "      <td>10.7103</td>\n",
       "    </tr>\n",
       "    <tr>\n",
       "      <th>RAD</th>\n",
       "      <td>404.0</td>\n",
       "      <td>9.440594</td>\n",
       "      <td>8.698360</td>\n",
       "      <td>1.00000</td>\n",
       "      <td>4.000000</td>\n",
       "      <td>5.00000</td>\n",
       "      <td>24.000000</td>\n",
       "      <td>24.0000</td>\n",
       "    </tr>\n",
       "    <tr>\n",
       "      <th>TAX</th>\n",
       "      <td>404.0</td>\n",
       "      <td>405.898515</td>\n",
       "      <td>166.374543</td>\n",
       "      <td>188.00000</td>\n",
       "      <td>279.000000</td>\n",
       "      <td>330.00000</td>\n",
       "      <td>666.000000</td>\n",
       "      <td>711.0000</td>\n",
       "    </tr>\n",
       "    <tr>\n",
       "      <th>PTRATIO</th>\n",
       "      <td>404.0</td>\n",
       "      <td>18.475990</td>\n",
       "      <td>2.200382</td>\n",
       "      <td>12.60000</td>\n",
       "      <td>17.225000</td>\n",
       "      <td>19.10000</td>\n",
       "      <td>20.200000</td>\n",
       "      <td>22.0000</td>\n",
       "    </tr>\n",
       "    <tr>\n",
       "      <th>B</th>\n",
       "      <td>404.0</td>\n",
       "      <td>354.783168</td>\n",
       "      <td>94.111148</td>\n",
       "      <td>0.32000</td>\n",
       "      <td>374.672500</td>\n",
       "      <td>391.25000</td>\n",
       "      <td>396.157500</td>\n",
       "      <td>396.9000</td>\n",
       "    </tr>\n",
       "    <tr>\n",
       "      <th>LSTAT</th>\n",
       "      <td>404.0</td>\n",
       "      <td>12.740817</td>\n",
       "      <td>7.254545</td>\n",
       "      <td>1.73000</td>\n",
       "      <td>6.890000</td>\n",
       "      <td>11.39500</td>\n",
       "      <td>17.092500</td>\n",
       "      <td>37.9700</td>\n",
       "    </tr>\n",
       "  </tbody>\n",
       "</table>\n",
       "</div>"
      ],
      "text/plain": [
       "         count        mean         std        min         25%        50%  \\\n",
       "CRIM     404.0    3.745111    9.240734    0.00632    0.081437    0.26888   \n",
       "ZN       404.0   11.480198   23.767711    0.00000    0.000000    0.00000   \n",
       "INDUS    404.0   11.104431    6.811308    0.46000    5.130000    9.69000   \n",
       "CHAS     404.0    0.061881    0.241238    0.00000    0.000000    0.00000   \n",
       "NOX      404.0    0.557356    0.117293    0.38500    0.453000    0.53800   \n",
       "RM       404.0    6.267082    0.709788    3.56100    5.874750    6.19850   \n",
       "AGE      404.0   69.010644   27.940665    2.90000   45.475000   78.50000   \n",
       "DIS      404.0    3.740271    2.030215    1.12960    2.077100    3.14230   \n",
       "RAD      404.0    9.440594    8.698360    1.00000    4.000000    5.00000   \n",
       "TAX      404.0  405.898515  166.374543  188.00000  279.000000  330.00000   \n",
       "PTRATIO  404.0   18.475990    2.200382   12.60000   17.225000   19.10000   \n",
       "B        404.0  354.783168   94.111148    0.32000  374.672500  391.25000   \n",
       "LSTAT    404.0   12.740817    7.254545    1.73000    6.890000   11.39500   \n",
       "\n",
       "                75%       max  \n",
       "CRIM       3.674808   88.9762  \n",
       "ZN        12.500000  100.0000  \n",
       "INDUS     18.100000   27.7400  \n",
       "CHAS       0.000000    1.0000  \n",
       "NOX        0.631000    0.8710  \n",
       "RM         6.609000    8.7250  \n",
       "AGE       94.100000  100.0000  \n",
       "DIS        5.118000   10.7103  \n",
       "RAD       24.000000   24.0000  \n",
       "TAX      666.000000  711.0000  \n",
       "PTRATIO   20.200000   22.0000  \n",
       "B        396.157500  396.9000  \n",
       "LSTAT     17.092500   37.9700  "
      ]
     },
     "execution_count": 11,
     "metadata": {},
     "output_type": "execute_result"
    }
   ],
   "source": [
    "train_stats = train_df_cp.describe()\n",
    "train_stats_t = train_stats.T\n",
    "train_stats_t"
   ]
  },
  {
   "cell_type": "code",
   "execution_count": 12,
   "id": "f8f27744",
   "metadata": {},
   "outputs": [],
   "source": [
    "test_stats = test_df_cp.describe()\n",
    "test_stats_t = test_stats.T"
   ]
  },
  {
   "cell_type": "markdown",
   "id": "1ed6ac4f",
   "metadata": {},
   "source": [
    "### features scaling"
   ]
  },
  {
   "cell_type": "markdown",
   "id": "39448997",
   "metadata": {},
   "source": [
    "Standardization pour train et test"
   ]
  },
  {
   "cell_type": "markdown",
   "id": "6c6c7ee1",
   "metadata": {},
   "source": [
    "通常、単に「正規化」と言った場合は、Min-Max normalizationを指す。この場合の正規化とは、データの最小値からの偏差（＝最小値を中心0にした場合の値）をデータ範囲（＝最大値－最小値）で割ることである。これにより、データの最小値は0、最大値は1に変換される。\n",
    "\n",
    "　Z-score normalizationは、標準化（Standardization）と呼ばれるのが一般的である。標準化とは、データの平均値からの偏差（＝平均値を中心0にした場合の値、中心化した値）を標準偏差で割ることである。これにより、データの平均は0、分散（標準偏差）は1に変換される（※分散1の平方根（√）はやはり1なので、標準偏差も1となる）。"
   ]
  },
  {
   "cell_type": "code",
   "execution_count": 21,
   "id": "835c4996",
   "metadata": {},
   "outputs": [],
   "source": [
    "def stand(x):\n",
    "  return (x - train_stats_t['mean']) / train_stats_t['std']\n",
    "\n",
    "stand_train_data = stand(train_df_cp)\n",
    "stand_test_data = stand(test_df_cp)"
   ]
  },
  {
   "cell_type": "code",
   "execution_count": 15,
   "id": "e41e49e6",
   "metadata": {},
   "outputs": [],
   "source": [
    "pd.options.display.float_format = '{:.5f}'.format"
   ]
  },
  {
   "cell_type": "code",
   "execution_count": 16,
   "id": "d0fc9699",
   "metadata": {},
   "outputs": [
    {
     "data": {
      "text/html": [
       "<div>\n",
       "<style scoped>\n",
       "    .dataframe tbody tr th:only-of-type {\n",
       "        vertical-align: middle;\n",
       "    }\n",
       "\n",
       "    .dataframe tbody tr th {\n",
       "        vertical-align: top;\n",
       "    }\n",
       "\n",
       "    .dataframe thead th {\n",
       "        text-align: right;\n",
       "    }\n",
       "</style>\n",
       "<table border=\"1\" class=\"dataframe\">\n",
       "  <thead>\n",
       "    <tr style=\"text-align: right;\">\n",
       "      <th></th>\n",
       "      <th>CRIM</th>\n",
       "      <th>ZN</th>\n",
       "      <th>INDUS</th>\n",
       "      <th>CHAS</th>\n",
       "      <th>NOX</th>\n",
       "      <th>RM</th>\n",
       "      <th>AGE</th>\n",
       "      <th>DIS</th>\n",
       "      <th>RAD</th>\n",
       "      <th>TAX</th>\n",
       "      <th>PTRATIO</th>\n",
       "      <th>B</th>\n",
       "      <th>LSTAT</th>\n",
       "    </tr>\n",
       "  </thead>\n",
       "  <tbody>\n",
       "    <tr>\n",
       "      <th>count</th>\n",
       "      <td>404.00000</td>\n",
       "      <td>404.00000</td>\n",
       "      <td>404.00000</td>\n",
       "      <td>404.00000</td>\n",
       "      <td>404.00000</td>\n",
       "      <td>404.00000</td>\n",
       "      <td>404.00000</td>\n",
       "      <td>404.00000</td>\n",
       "      <td>404.00000</td>\n",
       "      <td>404.00000</td>\n",
       "      <td>404.00000</td>\n",
       "      <td>404.00000</td>\n",
       "      <td>404.00000</td>\n",
       "    </tr>\n",
       "    <tr>\n",
       "      <th>mean</th>\n",
       "      <td>-0.00000</td>\n",
       "      <td>0.00000</td>\n",
       "      <td>0.00000</td>\n",
       "      <td>-0.00000</td>\n",
       "      <td>-0.00000</td>\n",
       "      <td>0.00000</td>\n",
       "      <td>0.00000</td>\n",
       "      <td>0.00000</td>\n",
       "      <td>-0.00000</td>\n",
       "      <td>-0.00000</td>\n",
       "      <td>0.00000</td>\n",
       "      <td>0.00000</td>\n",
       "      <td>0.00000</td>\n",
       "    </tr>\n",
       "    <tr>\n",
       "      <th>std</th>\n",
       "      <td>1.00000</td>\n",
       "      <td>1.00000</td>\n",
       "      <td>1.00000</td>\n",
       "      <td>1.00000</td>\n",
       "      <td>1.00000</td>\n",
       "      <td>1.00000</td>\n",
       "      <td>1.00000</td>\n",
       "      <td>1.00000</td>\n",
       "      <td>1.00000</td>\n",
       "      <td>1.00000</td>\n",
       "      <td>1.00000</td>\n",
       "      <td>1.00000</td>\n",
       "      <td>1.00000</td>\n",
       "    </tr>\n",
       "    <tr>\n",
       "      <th>min</th>\n",
       "      <td>-0.40460</td>\n",
       "      <td>-0.48302</td>\n",
       "      <td>-1.56276</td>\n",
       "      <td>-0.25651</td>\n",
       "      <td>-1.46945</td>\n",
       "      <td>-3.81252</td>\n",
       "      <td>-2.36611</td>\n",
       "      <td>-1.28591</td>\n",
       "      <td>-0.97037</td>\n",
       "      <td>-1.30969</td>\n",
       "      <td>-2.67044</td>\n",
       "      <td>-3.76643</td>\n",
       "      <td>-1.51778</td>\n",
       "    </tr>\n",
       "    <tr>\n",
       "      <th>25%</th>\n",
       "      <td>-0.39647</td>\n",
       "      <td>-0.48302</td>\n",
       "      <td>-0.87713</td>\n",
       "      <td>-0.25651</td>\n",
       "      <td>-0.88970</td>\n",
       "      <td>-0.55275</td>\n",
       "      <td>-0.84234</td>\n",
       "      <td>-0.81921</td>\n",
       "      <td>-0.62547</td>\n",
       "      <td>-0.76273</td>\n",
       "      <td>-0.56853</td>\n",
       "      <td>0.21134</td>\n",
       "      <td>-0.80650</td>\n",
       "    </tr>\n",
       "    <tr>\n",
       "      <th>50%</th>\n",
       "      <td>-0.37619</td>\n",
       "      <td>-0.48302</td>\n",
       "      <td>-0.20766</td>\n",
       "      <td>-0.25651</td>\n",
       "      <td>-0.16502</td>\n",
       "      <td>-0.09662</td>\n",
       "      <td>0.33963</td>\n",
       "      <td>-0.29454</td>\n",
       "      <td>-0.51051</td>\n",
       "      <td>-0.45619</td>\n",
       "      <td>0.28359</td>\n",
       "      <td>0.38749</td>\n",
       "      <td>-0.18551</td>\n",
       "    </tr>\n",
       "    <tr>\n",
       "      <th>75%</th>\n",
       "      <td>-0.00761</td>\n",
       "      <td>0.04291</td>\n",
       "      <td>1.02705</td>\n",
       "      <td>-0.25651</td>\n",
       "      <td>0.62786</td>\n",
       "      <td>0.48172</td>\n",
       "      <td>0.89795</td>\n",
       "      <td>0.67861</td>\n",
       "      <td>1.67381</td>\n",
       "      <td>1.56335</td>\n",
       "      <td>0.78350</td>\n",
       "      <td>0.43963</td>\n",
       "      <td>0.59986</td>\n",
       "    </tr>\n",
       "    <tr>\n",
       "      <th>max</th>\n",
       "      <td>9.22341</td>\n",
       "      <td>3.72437</td>\n",
       "      <td>2.44235</td>\n",
       "      <td>3.88876</td>\n",
       "      <td>2.67402</td>\n",
       "      <td>3.46289</td>\n",
       "      <td>1.10911</td>\n",
       "      <td>3.43315</td>\n",
       "      <td>1.67381</td>\n",
       "      <td>1.83382</td>\n",
       "      <td>1.60154</td>\n",
       "      <td>0.44752</td>\n",
       "      <td>3.47771</td>\n",
       "    </tr>\n",
       "  </tbody>\n",
       "</table>\n",
       "</div>"
      ],
      "text/plain": [
       "           CRIM        ZN     INDUS      CHAS       NOX        RM       AGE  \\\n",
       "count 404.00000 404.00000 404.00000 404.00000 404.00000 404.00000 404.00000   \n",
       "mean   -0.00000   0.00000   0.00000  -0.00000  -0.00000   0.00000   0.00000   \n",
       "std     1.00000   1.00000   1.00000   1.00000   1.00000   1.00000   1.00000   \n",
       "min    -0.40460  -0.48302  -1.56276  -0.25651  -1.46945  -3.81252  -2.36611   \n",
       "25%    -0.39647  -0.48302  -0.87713  -0.25651  -0.88970  -0.55275  -0.84234   \n",
       "50%    -0.37619  -0.48302  -0.20766  -0.25651  -0.16502  -0.09662   0.33963   \n",
       "75%    -0.00761   0.04291   1.02705  -0.25651   0.62786   0.48172   0.89795   \n",
       "max     9.22341   3.72437   2.44235   3.88876   2.67402   3.46289   1.10911   \n",
       "\n",
       "            DIS       RAD       TAX   PTRATIO         B     LSTAT  \n",
       "count 404.00000 404.00000 404.00000 404.00000 404.00000 404.00000  \n",
       "mean    0.00000  -0.00000  -0.00000   0.00000   0.00000   0.00000  \n",
       "std     1.00000   1.00000   1.00000   1.00000   1.00000   1.00000  \n",
       "min    -1.28591  -0.97037  -1.30969  -2.67044  -3.76643  -1.51778  \n",
       "25%    -0.81921  -0.62547  -0.76273  -0.56853   0.21134  -0.80650  \n",
       "50%    -0.29454  -0.51051  -0.45619   0.28359   0.38749  -0.18551  \n",
       "75%     0.67861   1.67381   1.56335   0.78350   0.43963   0.59986  \n",
       "max     3.43315   1.67381   1.83382   1.60154   0.44752   3.47771  "
      ]
     },
     "execution_count": 16,
     "metadata": {},
     "output_type": "execute_result"
    }
   ],
   "source": [
    "stand_train_data.describe()"
   ]
  },
  {
   "cell_type": "code",
   "execution_count": 17,
   "id": "ee45c43b",
   "metadata": {},
   "outputs": [],
   "source": [
    "X_train = stand_train_data.to_numpy()\n",
    "X_test = stand_test_data.to_numpy()\n",
    "y_train = train_targets\n",
    "y_test = test_targets"
   ]
  },
  {
   "cell_type": "code",
   "execution_count": 18,
   "id": "68104e50",
   "metadata": {},
   "outputs": [
    {
     "data": {
      "text/plain": [
       "((404, 13), (102, 13), (404,), (102,))"
      ]
     },
     "execution_count": 18,
     "metadata": {},
     "output_type": "execute_result"
    }
   ],
   "source": [
    "X_train.shape, X_test.shape, y_train.shape, y_test.shape"
   ]
  },
  {
   "cell_type": "markdown",
   "id": "33c068d8",
   "metadata": {},
   "source": [
    "### exportation des données"
   ]
  },
  {
   "cell_type": "code",
   "execution_count": 19,
   "id": "736e0798",
   "metadata": {},
   "outputs": [
    {
     "data": {
      "text/plain": [
       "['y_test.joblib']"
      ]
     },
     "execution_count": 19,
     "metadata": {},
     "output_type": "execute_result"
    }
   ],
   "source": [
    "joblib.dump(X_train, \"X_train.joblib\")\n",
    "joblib.dump(X_test, \"X_test.joblib\")\n",
    "joblib.dump(y_train, \"y_train.joblib\")\n",
    "joblib.dump(y_test, \"y_test.joblib\")"
   ]
  },
  {
   "cell_type": "code",
   "execution_count": null,
   "id": "9e8686fd",
   "metadata": {},
   "outputs": [],
   "source": []
  },
  {
   "cell_type": "code",
   "execution_count": null,
   "id": "54b08529",
   "metadata": {},
   "outputs": [],
   "source": []
  },
  {
   "cell_type": "code",
   "execution_count": null,
   "id": "66336101",
   "metadata": {},
   "outputs": [],
   "source": []
  },
  {
   "cell_type": "code",
   "execution_count": null,
   "id": "d6237c12",
   "metadata": {},
   "outputs": [],
   "source": []
  },
  {
   "cell_type": "code",
   "execution_count": null,
   "id": "2db270e8",
   "metadata": {},
   "outputs": [],
   "source": []
  },
  {
   "cell_type": "code",
   "execution_count": null,
   "id": "edacb881",
   "metadata": {},
   "outputs": [],
   "source": []
  },
  {
   "cell_type": "code",
   "execution_count": null,
   "id": "1cb77b2d",
   "metadata": {},
   "outputs": [],
   "source": []
  }
 ],
 "metadata": {
  "kernelspec": {
   "display_name": "Python 3 (ipykernel)",
   "language": "python",
   "name": "python3"
  },
  "language_info": {
   "codemirror_mode": {
    "name": "ipython",
    "version": 3
   },
   "file_extension": ".py",
   "mimetype": "text/x-python",
   "name": "python",
   "nbconvert_exporter": "python",
   "pygments_lexer": "ipython3",
   "version": "3.9.7"
  }
 },
 "nbformat": 4,
 "nbformat_minor": 5
}
