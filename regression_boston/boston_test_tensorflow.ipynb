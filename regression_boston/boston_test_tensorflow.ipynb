{
 "cells": [
  {
   "cell_type": "markdown",
   "id": "ea2a00c1",
   "metadata": {},
   "source": [
    "## Etude sur Introduction aux réseaux de neurones artificiels"
   ]
  },
  {
   "cell_type": "markdown",
   "id": "cced149a",
   "metadata": {},
   "source": [
    "La régression par un perceptron multi-couche sera illustrée dans un Jupyter Notebook sur l'exemple du Boston house prices dataset. Inspirez-vous de la ligne de code suivante (sklearn) :\n",
    "\n",
    "    MLPRegressor(hidden_layer_sizes='à définir', activation='à définir', solver='lbfgs', alpha=0.0001, max_iter=10000, random_state=0, max_fun=15000)\n"
   ]
  },
  {
   "cell_type": "markdown",
   "id": "82c636b9",
   "metadata": {},
   "source": [
    "### test"
   ]
  },
  {
   "cell_type": "markdown",
   "id": "7c86340f",
   "metadata": {},
   "source": [
    "1点目の特性である「データセットの少なさ」に対する対応。一般に、データのサンプル数が少なく学習モデルのパラメータ数が多い場合、過学習が起こりやすい。今回のデータも比較的少数であるため、過学習を避けるために比較的小さなニューラルネットを用いる。ここでは、隠れ層が2層、それぞれ64ノードのモデルを用いる。"
   ]
  },
  {
   "cell_type": "markdown",
   "id": "748ff0df",
   "metadata": {},
   "source": [
    "### 1 - Importation des librairies Python nécessaires à la résolution du problème"
   ]
  },
  {
   "cell_type": "code",
   "execution_count": 28,
   "id": "39a143c5",
   "metadata": {},
   "outputs": [],
   "source": [
    "from tensorflow.keras.models import Sequential\n",
    "from tensorflow.keras.layers import InputLayer, Dense\n",
    "from tensorflow.keras.optimizers import SGD\n",
    "from joblib import load\n",
    "import matplotlib.pyplot as plt\n",
    "import pandas as pd\n",
    "from tensorflow.keras.models import load_model\n",
    "from sklearn.metrics import r2_score\n",
    "from sklearn.metrics import mean_squared_error"
   ]
  },
  {
   "cell_type": "code",
   "execution_count": 1,
   "id": "9616e281",
   "metadata": {},
   "outputs": [],
   "source": [
    "import numpy as np\n",
    "import pandas as pd\n",
    "import matplotlib.pyplot as plt\n",
    "#from sklearn.datasets import load_boston\n",
    "import tensorflow as tf\n",
    "#from keras.datasets import boston_housing\n",
    "import joblib\n",
    "from joblib import load\n",
    "#from keras import layers\n",
    "#from keras import models\n",
    "#import tensorflow as tf\n",
    "from tensorflow import keras\n",
    "from tensorflow.keras import layers\n",
    "from keras.models import load_model\n",
    "from sklearn.metrics import r2_score\n",
    "from sklearn.metrics import mean_squared_error"
   ]
  },
  {
   "cell_type": "markdown",
   "id": "3e101339",
   "metadata": {},
   "source": [
    "### 2 - affichage"
   ]
  },
  {
   "cell_type": "code",
   "execution_count": 2,
   "id": "1fa9f9b1",
   "metadata": {},
   "outputs": [],
   "source": [
    "pd.set_option(\"max_columns\", None)\n",
    "pd.set_option(\"max_colwidth\", None)\n",
    "pd.set_option(\"max_row\", 500)"
   ]
  },
  {
   "cell_type": "markdown",
   "id": "c5d0312a",
   "metadata": {},
   "source": [
    "### Chargement des données test et le modèle"
   ]
  },
  {
   "cell_type": "code",
   "execution_count": 3,
   "id": "35f5e54c",
   "metadata": {},
   "outputs": [],
   "source": [
    "X_test = load(\"X_test.joblib\")\n",
    "y_test = load(\"y_test.joblib\")"
   ]
  },
  {
   "cell_type": "code",
   "execution_count": 4,
   "id": "abcaf35f",
   "metadata": {},
   "outputs": [
    {
     "data": {
      "text/plain": [
       "((102, 13), (102,))"
      ]
     },
     "execution_count": 4,
     "metadata": {},
     "output_type": "execute_result"
    }
   ],
   "source": [
    "X_test.shape, y_test.shape"
   ]
  },
  {
   "cell_type": "code",
   "execution_count": 28,
   "id": "5610ec03",
   "metadata": {},
   "outputs": [],
   "source": [
    "model = load_model('model.h5')"
   ]
  },
  {
   "cell_type": "code",
   "execution_count": 34,
   "id": "a9c3c905",
   "metadata": {},
   "outputs": [],
   "source": [
    "model_parametre = load_model('model')"
   ]
  },
  {
   "cell_type": "markdown",
   "id": "24f4f7e1",
   "metadata": {},
   "source": [
    "### tester le model"
   ]
  },
  {
   "cell_type": "markdown",
   "id": "a90a5db1",
   "metadata": {},
   "source": [
    "https://keras.io/ja/getting-started/sequential-model-guide/"
   ]
  },
  {
   "cell_type": "markdown",
   "id": "bcf8173c",
   "metadata": {},
   "source": [
    "https://sinyblog.com/deaplearning/keras_how_to/"
   ]
  },
  {
   "cell_type": "code",
   "execution_count": 29,
   "id": "ca484d0d",
   "metadata": {},
   "outputs": [],
   "source": [
    "y_test_pred = model.predict(X_test).flatten()"
   ]
  },
  {
   "cell_type": "code",
   "execution_count": 8,
   "id": "b61c50e7",
   "metadata": {},
   "outputs": [
    {
     "name": "stdout",
     "output_type": "stream",
     "text": [
      "[ 8.044594  17.827991  21.256859  30.031984  25.63167   17.909567\n",
      " 27.14936   24.14579   20.371534  22.142647  13.287539  15.446976\n",
      " 16.537897  38.994003  19.84325   18.691643  25.850155  19.59216\n",
      " 19.304012  32.40337    9.980392  13.0360985 20.402754  12.782566\n",
      " 21.220192  25.827974  28.59103   28.313831  11.402115  23.316914\n",
      " 20.56193   13.944208  33.401886  24.85891   17.504398   9.436203\n",
      " 15.488928  17.46368   18.137512  26.357069  28.433529  27.606478\n",
      " 14.38493   39.132763  29.82104   23.760899  26.061935  18.121914\n",
      " 22.83066   22.05149   34.53998   19.694942  11.918188  16.506985\n",
      " 35.953506  27.312107  13.273703  48.869835  33.519054  22.73313\n",
      " 24.773508  16.963285  14.253645  18.026798  23.475086  23.612274\n",
      " 14.258472  23.76704   14.363796   7.462492  32.60197   29.676022\n",
      " 25.934847  14.737598  23.592846  18.514977  22.509594  23.42176\n",
      " 33.124702  11.82107   19.356228  38.014034  14.191156  15.241411\n",
      " 17.755672  17.723677  21.696035  17.688484  22.173223  32.89705\n",
      " 20.67414   19.790174  25.678728  44.27252   33.031124  19.578085\n",
      " 36.15913   55.688755  26.134333  41.93542   29.889433  19.878906 ]\n"
     ]
    }
   ],
   "source": [
    "print(y_test_pred)"
   ]
  },
  {
   "cell_type": "code",
   "execution_count": 30,
   "id": "9cafde85",
   "metadata": {},
   "outputs": [
    {
     "data": {
      "image/png": "[encoded data removed]",
      "text/plain": [
       "<Figure size 432x288 with 1 Axes>"
      ]
     },
     "metadata": {
      "needs_background": "light"
     },
     "output_type": "display_data"
    }
   ],
   "source": [
    "plt.scatter(y_test, y_test_pred)\n",
    "plt.xlabel('True Values [1000$]')\n",
    "plt.ylabel('Predictions [1000$]')\n",
    "plt.axis('equal')\n",
    "plt.axis('square')\n",
    "plt.xlim([0,plt.xlim()[1]])\n",
    "plt.ylim([0,plt.ylim()[1]])\n",
    "_ = plt.plot([-100, 100], [-100, 100])"
   ]
  },
  {
   "cell_type": "code",
   "execution_count": 31,
   "id": "9151daf8",
   "metadata": {},
   "outputs": [
    {
     "data": {
      "image/png": "[encoded data removed]",
      "text/plain": [
       "<Figure size 432x288 with 1 Axes>"
      ]
     },
     "metadata": {
      "needs_background": "light"
     },
     "output_type": "display_data"
    }
   ],
   "source": [
    "error = y_test_pred - y_test\n",
    "plt.hist(error, bins = 25)\n",
    "plt.xlabel(\"Prediction Error [1000$]\")\n",
    "_ = plt.ylabel(\"Count\")"
   ]
  },
  {
   "cell_type": "code",
   "execution_count": 32,
   "id": "9dea92d1",
   "metadata": {},
   "outputs": [
    {
     "name": "stdout",
     "output_type": "stream",
     "text": [
      "4/4 - 0s - loss: 23.1841 - mean_absolute_error: 3.7243 - 153ms/epoch - 38ms/step\n",
      "Testing set Mean Abs Error:  3.72 [1000$]\n"
     ]
    }
   ],
   "source": [
    "loss, mae = model.evaluate(X_test, y_test, verbose=2)\n",
    "\n",
    "print(\"Testing set Mean Abs Error: {:5.2f} [1000$]\".format(mae))\n"
   ]
  },
  {
   "cell_type": "code",
   "execution_count": 33,
   "id": "86bdc403",
   "metadata": {},
   "outputs": [
    {
     "name": "stdout",
     "output_type": "stream",
     "text": [
      "R2 score: 72.15%\n",
      "RMSE: 4.81498526067964\n"
     ]
    }
   ],
   "source": [
    "# model without ajusting hyper parameter\n",
    "y_test_pred = model.predict(X_test).flatten()\n",
    "print('R2 score: {0:0.2%}'.format(r2_score(y_test, y_test_pred)))\n",
    "print('RMSE: {}'.format(mean_squared_error(y_test, y_test_pred, squared=False)))"
   ]
  },
  {
   "cell_type": "code",
   "execution_count": 35,
   "id": "a3fae264",
   "metadata": {},
   "outputs": [
    {
     "name": "stdout",
     "output_type": "stream",
     "text": [
      "R2 score: 69.70%\n",
      "RMSE: 5.021873592040548\n"
     ]
    }
   ],
   "source": [
    "# model avec hyper parameter with learning_rate=0.1, unit(neuron)=12\n",
    "y_test_pred_p = model_parametre.predict(X_test).flatten()\n",
    "print('R2 score: {0:0.2%}'.format(r2_score(y_test, y_test_pred_p)))\n",
    "print('RMSE: {}'.format(mean_squared_error(y_test, y_test_pred_p, squared=False)))"
   ]
  },
  {
   "cell_type": "markdown",
   "id": "1986e262",
   "metadata": {},
   "source": [
    "### observation\n",
    "Resultat de model hyperparamètré est moin bien."
   ]
  },
  {
   "cell_type": "code",
   "execution_count": null,
   "id": "0b523173",
   "metadata": {},
   "outputs": [],
   "source": []
  },
  {
   "cell_type": "code",
   "execution_count": null,
   "id": "4918fd31",
   "metadata": {},
   "outputs": [],
   "source": []
  },
  {
   "cell_type": "code",
   "execution_count": null,
   "id": "fffe039e",
   "metadata": {},
   "outputs": [],
   "source": []
  },
  {
   "cell_type": "markdown",
   "id": "daded1ce",
   "metadata": {},
   "source": [
    "# memo"
   ]
  },
  {
   "cell_type": "markdown",
   "id": "0d9d16ac",
   "metadata": {},
   "source": [
    "学習したニューラルネットのパラメーター(重み) Paramètres (poids) du réseau neuronal"
   ]
  },
  {
   "cell_type": "code",
   "execution_count": 21,
   "id": "21c747ce",
   "metadata": {},
   "outputs": [],
   "source": [
    "w = model.get_weights()"
   ]
  },
  {
   "cell_type": "code",
   "execution_count": 18,
   "id": "c972b5e9",
   "metadata": {},
   "outputs": [
    {
     "data": {
      "image/png": "[encoded data removed]",
      "text/plain": [
       "<Figure size 432x288 with 1 Axes>"
      ]
     },
     "metadata": {
      "needs_background": "light"
     },
     "output_type": "display_data"
    },
    {
     "data": {
      "image/png": "[encoded data removed]",
      "text/plain": [
       "<Figure size 432x288 with 1 Axes>"
      ]
     },
     "metadata": {
      "needs_background": "light"
     },
     "output_type": "display_data"
    }
   ],
   "source": [
    "for i in range(len(model.layers)):\n",
    "    # ニューラルネットの各層について、重みの絶対値の総和をプロット\n",
    "    w1 = model.layers[i].get_weights()[0]\n",
    "    plt.figure()\n",
    "    plt.plot(range(1, len(w1)+1), (w1**2).sum(axis=1), 'o-')\n",
    "    plt.show()"
   ]
  },
  {
   "cell_type": "code",
   "execution_count": 19,
   "id": "00acfeb5",
   "metadata": {},
   "outputs": [
    {
     "data": {
      "image/png": "[encoded data removed]",
      "text/plain": [
       "<Figure size 432x288 with 1 Axes>"
      ]
     },
     "metadata": {
      "needs_background": "light"
     },
     "output_type": "display_data"
    }
   ],
   "source": [
    "# 13番目の説明変数と目的変数を散布図としてプロットPlot the thirteenth explanatory and objective variable as a scatter plot\n",
    "plt.title(\"Boston House Prices\")\n",
    "plt.ylabel(\"Price ($1000)\")\n",
    "plt.xlabel(\"lower status of the population (%)\")\n",
    "\n",
    "plt.scatter(X_test[:,12], y_test, s=7)\n",
    "plt.show()"
   ]
  },
  {
   "cell_type": "code",
   "execution_count": 20,
   "id": "daec0b0b",
   "metadata": {},
   "outputs": [
    {
     "data": {
      "image/png": "[encoded data removed]",
      "text/plain": [
       "<Figure size 432x288 with 1 Axes>"
      ]
     },
     "metadata": {
      "needs_background": "light"
     },
     "output_type": "display_data"
    }
   ],
   "source": [
    "# 6番目の説明変数と目的変数を散布図としてプロットPlot the thirteenth explanatory and objective variable as a scatter plot\n",
    "plt.title(\"Boston House Prices\")\n",
    "plt.ylabel(\"Price ($1000)\")\n",
    "plt.xlabel(\"avg nb of rooms per dwelling\")\n",
    "values = [1,2,3,4,5,6]\n",
    "#plt.xticks(values)\n",
    "plt.scatter(X_test[:,5], y_test, s=7)\n",
    "plt.show()"
   ]
  },
  {
   "cell_type": "code",
   "execution_count": null,
   "id": "a98661e3",
   "metadata": {},
   "outputs": [],
   "source": []
  },
  {
   "cell_type": "code",
   "execution_count": null,
   "id": "ee3e2bd6",
   "metadata": {},
   "outputs": [],
   "source": []
  },
  {
   "cell_type": "code",
   "execution_count": null,
   "id": "030401b5",
   "metadata": {},
   "outputs": [],
   "source": []
  },
  {
   "cell_type": "code",
   "execution_count": null,
   "id": "1cb77b2d",
   "metadata": {},
   "outputs": [],
   "source": []
  }
 ],
 "metadata": {
  "kernelspec": {
   "display_name": "Python 3 (ipykernel)",
   "language": "python",
   "name": "python3"
  },
  "language_info": {
   "codemirror_mode": {
    "name": "ipython",
    "version": 3
   },
   "file_extension": ".py",
   "mimetype": "text/x-python",
   "name": "python",
   "nbconvert_exporter": "python",
   "pygments_lexer": "ipython3",
   "version": "3.9.7"
  }
 },
 "nbformat": 4,
 "nbformat_minor": 5
}
